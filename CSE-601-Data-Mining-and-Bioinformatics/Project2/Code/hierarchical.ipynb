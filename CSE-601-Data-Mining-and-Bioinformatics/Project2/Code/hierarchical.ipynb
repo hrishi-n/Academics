{
 "cells": [
  {
   "cell_type": "code",
   "execution_count": 1,
   "metadata": {},
   "outputs": [],
   "source": [
    "import numpy as np\n",
    "from itertools import combinations\n",
    "import pandas as pd\n",
    "import math\n",
    "import pandas\n",
    "from sklearn.decomposition import PCA\n",
    "import matplotlib.pyplot as plt\n",
    "import seaborn as sns\n",
    "import json\n",
    "import matplotlib.cm as cm\n",
    "import matplotlib.colors as pltcolors"
   ]
  },
  {
   "cell_type": "code",
   "execution_count": 2,
   "metadata": {},
   "outputs": [],
   "source": [
    "file_name = \"new_dataset_2\"\n",
    "def getData(file_name):\n",
    "    file_handle = open(file_name + \".txt\", \"r\")\n",
    "    lines = file_handle.readlines()\n",
    "    gene_ids = []\n",
    "    ground_truth_clusters = []\n",
    "    input_matrix = []\n",
    "    for line in lines:\n",
    "        row = line.strip().split(\"\\t\")\n",
    "        gene_ids.append(row.pop(0))\n",
    "        ground_truth_clusters.append(row.pop(0))\n",
    "        att_list=[float(i) for i in row]\n",
    "        input_matrix.append(att_list)\n",
    "    return gene_ids, ground_truth_clusters, input_matrix"
   ]
  },
  {
   "cell_type": "code",
   "execution_count": 3,
   "metadata": {},
   "outputs": [],
   "source": [
    "gene_ids, ground_truth_clusters, input_matrix = getData(file_name)"
   ]
  },
  {
   "cell_type": "code",
   "execution_count": 4,
   "metadata": {},
   "outputs": [],
   "source": [
    "distance_dict={}\n",
    "for i in range(0, len(input_matrix)):\n",
    "    distance_dict[str(i)] = {}\n",
    "    for j in range(0, len(input_matrix)): \n",
    "        \n",
    "        if(i==j):\n",
    "            distance_dict[str(i)][str(j)] = {}\n",
    "            distance_dict[str(i)][str(j)] = float('inf')\n",
    "#         elif(i<j):\n",
    "#             break\n",
    "        else:\n",
    "            distance_dict[str(i)][str(j)] = {}\n",
    "            dist = 0\n",
    "            for a in range(len(input_matrix[j])):\n",
    "                dist = dist+ (input_matrix[i][a]-input_matrix[j][a])**2\n",
    "            distance_dict[str(i)][str(j)] = math.sqrt(dist)"
   ]
  },
  {
   "cell_type": "code",
   "execution_count": 5,
   "metadata": {},
   "outputs": [],
   "source": [
    "num_clusters = 3"
   ]
  },
  {
   "cell_type": "code",
   "execution_count": 6,
   "metadata": {},
   "outputs": [],
   "source": [
    "final_cluster_list = []\n",
    "dist_dict = {}\n",
    "dist_dict = distance_dict\n",
    "dist_list  = list(dist_dict.keys())\n",
    "while len(list(dist_dict))>num_clusters:    \n",
    "    distance=float('inf')\n",
    "    point1=0\n",
    "    point2=0\n",
    "    key_list = dist_dict.keys()\n",
    "    for i in key_list:\n",
    "        subdict = dist_dict.get(i)\n",
    "        \n",
    "        for j in subdict.keys():\n",
    "            value = subdict[j]\n",
    "#             if(value==0):\n",
    "#                 break\n",
    "#             else:\n",
    "                \n",
    "            if value<distance:\n",
    "                distance = value\n",
    "                point2 = j\n",
    "                point1 = i\n",
    "    #print(distance)\n",
    "\n",
    "    dist_dict[point1+\",\"+point2] = {}\n",
    "\n",
    "    for key in key_list:\n",
    "\n",
    "        val1 = dist_dict[point1][key]\n",
    "        val2 = dist_dict[point2][key]\n",
    "\n",
    "        dist_dict[point1+\",\"+point2][key] = min(val1,val2)\n",
    "        dist_dict[key][point1+\",\"+point2] = min(val1,val2)\n",
    "\n",
    "    dist_dict[point1+\",\"+point2][point1+\",\"+point2] = float('inf')\n",
    "\n",
    "    del dist_dict[point1]\n",
    "    del dist_dict[point2]\n",
    "\n",
    "    for i in list(dist_dict):\n",
    "        del dist_dict[i][point1]\n",
    "        del dist_dict[i][point2]    "
   ]
  },
  {
   "cell_type": "code",
   "execution_count": 7,
   "metadata": {},
   "outputs": [],
   "source": [
    "final_cluster_list = [i for i in dist_dict.keys()]"
   ]
  },
  {
   "cell_type": "code",
   "execution_count": 8,
   "metadata": {},
   "outputs": [],
   "source": [
    "cluster_list = [0]*len(input_matrix)\n",
    "C=0\n",
    "for i in final_cluster_list:\n",
    "    lst = i.split(\",\")\n",
    "    for j in lst:\n",
    "        cluster_list[int(j)] = C\n",
    "    C=C+1"
   ]
  },
  {
   "cell_type": "code",
   "execution_count": null,
   "metadata": {},
   "outputs": [],
   "source": []
  },
  {
   "cell_type": "code",
   "execution_count": 9,
   "metadata": {},
   "outputs": [],
   "source": [
    "incident_cluster_list = []\n",
    "for i in range(len(cluster_list)):\n",
    "    row_values = []\n",
    "    val=0\n",
    "    for j in range(len(cluster_list)):\n",
    "        if(cluster_list[i]==cluster_list[j]):\n",
    "            val=1\n",
    "        row_values.append(val)\n",
    "        val=0\n",
    "    incident_cluster_list.append(row_values)"
   ]
  },
  {
   "cell_type": "code",
   "execution_count": 10,
   "metadata": {},
   "outputs": [],
   "source": [
    "incident_ground_truth=[]\n",
    "ground_truth_clusters = [ int(x) for x in ground_truth_clusters]\n",
    "for i in range(len(ground_truth_clusters)):\n",
    "    row_values = []\n",
    "    val=0\n",
    "    for j in range(len(ground_truth_clusters)):\n",
    "        if(ground_truth_clusters[i]==ground_truth_clusters[j]):\n",
    "            val=1\n",
    "        row_values.append(val)\n",
    "        val=0\n",
    "    incident_ground_truth.append(row_values)"
   ]
  },
  {
   "cell_type": "code",
   "execution_count": 11,
   "metadata": {
    "scrolled": true
   },
   "outputs": [],
   "source": [
    "m00=0\n",
    "m01=0\n",
    "m10=0\n",
    "m11=0\n",
    "for i in range(len(incident_cluster_list)):\n",
    "    for j in range(len(incident_cluster_list)):\n",
    "        if(incident_cluster_list[i][j]==incident_ground_truth[i][j]):\n",
    "            if(incident_cluster_list[i][j]==1):\n",
    "                m11=m11+1\n",
    "            else:\n",
    "                m00=m00+1\n",
    "        else:\n",
    "            if(incident_cluster_list[i][j]==1):\n",
    "                m10=m10+1\n",
    "            else:\n",
    "                m01=m01+1     "
   ]
  },
  {
   "cell_type": "code",
   "execution_count": 12,
   "metadata": {},
   "outputs": [],
   "source": [
    "randID = (m11+m00)/(m00+m11+m01+m10)\n",
    "jaccardCoeff = m11/(m11+m10+m01)"
   ]
  },
  {
   "cell_type": "code",
   "execution_count": 13,
   "metadata": {},
   "outputs": [
    {
     "name": "stdout",
     "output_type": "stream",
     "text": [
      "Jaccard Coefficient:\t 0.7777777777777778\n",
      "Rand Index:\t\t 0.8888888888888888\n"
     ]
    }
   ],
   "source": [
    "print(\"Jaccard Coefficient:\\t\", jaccardCoeff)\n",
    "print(\"Rand Index:\\t\\t\", randID)"
   ]
  },
  {
   "cell_type": "code",
   "execution_count": 14,
   "metadata": {},
   "outputs": [],
   "source": [
    "pca_data1 = PCA(n_components=2).fit_transform(input_matrix)"
   ]
  },
  {
   "cell_type": "code",
   "execution_count": 15,
   "metadata": {},
   "outputs": [],
   "source": [
    "#Function to plot the data\n",
    "def plotData(file_name, data,clusters):\n",
    "    allcolors=[]\n",
    "    for i in pltcolors.cnames.items():\n",
    "        allcolors.append(i[0])\n",
    "    plt.figure(figsize=(12,9))\n",
    "    legend = list()\n",
    "    classes = list(set(clusters))\n",
    "    allcolors1 = ['red','deepskyblue','green','purple', 'brown', 'plum', 'darkcyan','blue','magenta','lightslategray','black','yellow','mediumpurple','cyan',]\n",
    "    if(len(classes)>len(allcolors)):\n",
    "        colors = [random.choice(allcolors) for i in range(len(classes))]\n",
    "    else:\n",
    "        colors = allcolors1\n",
    "    for i in range(len(classes)):\n",
    "        cluster_data = data[np.where(np.array(clusters) == classes[i])]\n",
    "        legend.append(plt.scatter(cluster_data[:,0],cluster_data[:,1], c=colors[i], s=50, alpha=0.9))\n",
    "        #plt.scatter(centroids[i][0],centroids[i][1], s=150, marker=\"x\", c=colors[i], alpha = 0.9)\n",
    "    plt.legend(legend,classes)\n",
    "    plt.xlabel(\"Principle Component 1\")\n",
    "    plt.ylabel(\"Principle Component 2\")\n",
    "    plt.title(\"PCA visualization for Hierarchical Agglomerative Clustering and \"+file_name+\".txt file\")\n",
    "    plt.savefig(\"Hierarchical_\"+file_name+\".png\")\n",
    "    plt.show()"
   ]
  },
  {
   "cell_type": "code",
   "execution_count": 16,
   "metadata": {},
   "outputs": [
    {
     "data": {
      "image/png": "[encoded data removed]",
      "text/plain": [
       "<Figure size 864x648 with 1 Axes>"
      ]
     },
     "metadata": {
      "needs_background": "light"
     },
     "output_type": "display_data"
    }
   ],
   "source": [
    "plotData(file_name,pca_data1, cluster_list)"
   ]
  },
  {
   "cell_type": "code",
   "execution_count": null,
   "metadata": {},
   "outputs": [],
   "source": []
  }
 ],
 "metadata": {
  "kernelspec": {
   "display_name": "Python 3",
   "language": "python",
   "name": "python3"
  },
  "language_info": {
   "codemirror_mode": {
    "name": "ipython",
    "version": 3
   },
   "file_extension": ".py",
   "mimetype": "text/x-python",
   "name": "python",
   "nbconvert_exporter": "python",
   "pygments_lexer": "ipython3",
   "version": "3.7.4"
  }
 },
 "nbformat": 4,
 "nbformat_minor": 2
}

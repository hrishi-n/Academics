{
 "cells": [
  {
   "cell_type": "code",
   "execution_count": 1,
   "metadata": {},
   "outputs": [],
   "source": [
    "import numpy as np\n",
    "import math\n",
    "from sklearn.decomposition import PCA\n",
    "import matplotlib.pyplot as plt\n",
    "import matplotlib.colors as pltcolors\n",
    "import random"
   ]
  },
  {
   "cell_type": "code",
   "execution_count": 2,
   "metadata": {},
   "outputs": [],
   "source": [
    "#Function to extract data from file\n",
    "def getData(file_name):\n",
    "    file_handle = open(file_name + \".txt\", \"r\")\n",
    "    lines = file_handle.readlines()\n",
    "    gene_ids = []\n",
    "    ground_truth_clusters = []\n",
    "    input_matrix = []\n",
    "    for line in lines:\n",
    "        row = line.strip().split(\"\\t\")\n",
    "        gene_ids.append(int(row.pop(0)))\n",
    "        ground_truth_clusters.append(int(row.pop(0)))\n",
    "        att_list=[float(i) for i in row]\n",
    "        input_matrix.append(att_list)\n",
    "    return np.array(gene_ids), np.array(ground_truth_clusters), np.array(input_matrix)"
   ]
  },
  {
   "cell_type": "code",
   "execution_count": 3,
   "metadata": {},
   "outputs": [],
   "source": [
    "#Function to generate Affinity Matrix for each data point\n",
    "def getAffinityMatrix(data, sigma):\n",
    "    aff_mat = np.zeros((len(data), len(data)))\n",
    "    dist = 0 \n",
    "    for i in range(len(data)):\n",
    "        for j in range(len(data)):\n",
    "            dist = np.linalg.norm(data[i]-data[j])\n",
    "            fdist = np.exp(-((dist**2)/(sigma**2)))\n",
    "            aff_mat[i][j] = fdist\n",
    "    return aff_mat"
   ]
  },
  {
   "cell_type": "code",
   "execution_count": 4,
   "metadata": {},
   "outputs": [],
   "source": [
    "#Function to generate Degree Matrix\n",
    "def getDegreeMatrix(affinity_matrix):\n",
    "    D = []\n",
    "    for i in range(len(affinity_matrix)):\n",
    "        val=np.sum(affinity_matrix[i])-1.0\n",
    "        D.append(val)\n",
    "    return np.diag(D)"
   ]
  },
  {
   "cell_type": "code",
   "execution_count": 5,
   "metadata": {},
   "outputs": [],
   "source": [
    "file_name = \"new_dataset_1\"\n",
    "gene_ids, ground_truth_clusters, input_matrix = getData(file_name)\n",
    "\n",
    "sigma = 0.5\n",
    "aff_mat = getAffinityMatrix(input_matrix, sigma)\n",
    "deg_mat = getDegreeMatrix(aff_mat)\n",
    "\n",
    "#Calculate laplacian matrix\n",
    "lap_mat = deg_mat - aff_mat"
   ]
  },
  {
   "cell_type": "code",
   "execution_count": 6,
   "metadata": {},
   "outputs": [],
   "source": [
    "#lap_mat1 = np.linalg.inv(deg_mat) * lap_mat"
   ]
  },
  {
   "cell_type": "code",
   "execution_count": null,
   "metadata": {},
   "outputs": [],
   "source": []
  },
  {
   "cell_type": "code",
   "execution_count": 7,
   "metadata": {},
   "outputs": [],
   "source": [
    "#decompose laplacian matrix into eigen values and eigen vectors\n",
    "eigen_values, eigen_vectors = np.linalg.eigh(lap_mat)"
   ]
  },
  {
   "cell_type": "code",
   "execution_count": 8,
   "metadata": {},
   "outputs": [],
   "source": [
    "ev_sort = eigen_values.argsort()\n",
    "eigen_values = eigen_values[ev_sort]\n",
    "eigen_vectors = eigen_vectors[ev_sort]"
   ]
  },
  {
   "cell_type": "code",
   "execution_count": 9,
   "metadata": {},
   "outputs": [],
   "source": [
    "#Function to get k value with maximum eigen gap\n",
    "def max_eigen_gap(eigen_vals):\n",
    "    num_clusters=-1\n",
    "    val=0.0\n",
    "    for i in range(1, len(eigen_vals)):\n",
    "        if((np.subtract(eigen_vals[i],eigen_vals[i-1])>=val)):\n",
    "            val = np.subtract(eigen_vals[i],eigen_vals[i-1])\n",
    "            num_clusters=i+1\n",
    "    return num_clusters"
   ]
  },
  {
   "cell_type": "code",
   "execution_count": null,
   "metadata": {},
   "outputs": [],
   "source": []
  },
  {
   "cell_type": "code",
   "execution_count": null,
   "metadata": {},
   "outputs": [],
   "source": []
  },
  {
   "cell_type": "code",
   "execution_count": 10,
   "metadata": {},
   "outputs": [],
   "source": [
    "k_val = max_eigen_gap(eigen_values)"
   ]
  },
  {
   "cell_type": "code",
   "execution_count": 11,
   "metadata": {},
   "outputs": [
    {
     "name": "stdout",
     "output_type": "stream",
     "text": [
      "Max Eigen Gap found at index:  125\n"
     ]
    }
   ],
   "source": [
    "print(\"Max Eigen Gap found at index: \", k_val)"
   ]
  },
  {
   "cell_type": "code",
   "execution_count": 12,
   "metadata": {},
   "outputs": [],
   "source": [
    "#Function to get data with reduced order according to k value\n",
    "def getReducedVectors(k_value,eigen_vals, eigen_vecs):\n",
    "    vectors = []\n",
    "    for i in eigen_vals.argsort():\n",
    "        vectors.append(eigen_vecs[i])\n",
    "    return np.array(vectors)"
   ]
  },
  {
   "cell_type": "code",
   "execution_count": 13,
   "metadata": {},
   "outputs": [],
   "source": [
    "reduced_data = getReducedVectors(k_val, eigen_values, eigen_vectors)"
   ]
  },
  {
   "cell_type": "code",
   "execution_count": 14,
   "metadata": {},
   "outputs": [],
   "source": [
    "reduced_data = reduced_data[:,:k_val]"
   ]
  },
  {
   "cell_type": "code",
   "execution_count": 15,
   "metadata": {},
   "outputs": [],
   "source": [
    "cluster_ids = [1,9,20]\n",
    "initial_centroids=[]\n",
    "for i in cluster_ids:\n",
    "    initial_centroids.append(reduced_data[i-1].tolist())"
   ]
  },
  {
   "cell_type": "code",
   "execution_count": 16,
   "metadata": {},
   "outputs": [],
   "source": [
    "# k = 5\n",
    "# initial_centroids=[]\n",
    "# for i in range(k):\n",
    "#     initial_centroids.append(reduced_data[i].tolist())"
   ]
  },
  {
   "cell_type": "code",
   "execution_count": null,
   "metadata": {},
   "outputs": [],
   "source": []
  },
  {
   "cell_type": "code",
   "execution_count": 17,
   "metadata": {},
   "outputs": [],
   "source": [
    "#k-MEANS algorithm code\n",
    "def kmeans(vectors, num_iterations, centroids):\n",
    "    #print(centroids.shape)\n",
    "    for z in range(num_iterations):\n",
    "        cen_distances = []\n",
    "        centdict = {}\n",
    "        cluster_list=[]\n",
    "        new_centroids = []\n",
    "        for i in range(len(centroids)):\n",
    "            centdict[i] = []\n",
    "        for j in range(len(vectors)):\n",
    "            distances = []\n",
    "            for i in range(len(centroids)):\n",
    "                dist = 0\n",
    "                for k in range(len(vectors[j])):      \n",
    "                    dist = dist + (centroids[i][k] - vectors[j][k])**2\n",
    "                dist = math.sqrt(dist)\n",
    "                distances.append(dist)        \n",
    "            cent = distances.index(min(distances))\n",
    "            values = centdict.get(cent)\n",
    "            values.append(vectors[j])\n",
    "            cluster_list.append(cent)\n",
    "            centdict[cent]  = values\n",
    "        for l in centdict.keys():\n",
    "            data = np.array(centdict.get(l))\n",
    "            new_centroids.append((np.average(data, axis=0)).tolist())\n",
    "        if(new_centroids == centroids):\n",
    "            print(\"Converging at iteration no.: \", z)\n",
    "            centroids = new_centroids\n",
    "            return np.array(centroids), cluster_list\n",
    "        elif(z==num_iterations-1):\n",
    "            print(\"Completed max iterations: \",z+1)\n",
    "            centroids = new_centroids\n",
    "            cluster_list=[]\n",
    "            for j in range(len(vectors)):\n",
    "                distances = []\n",
    "                for i in range(len(centroids)):\n",
    "                    dist = 0\n",
    "                    for k in range(len(vectors[j])):      \n",
    "                        dist = dist + (centroids[i][k] - vectors[j][k])**2\n",
    "                    dist = math.sqrt(dist)\n",
    "                    distances.append(dist)        \n",
    "                cent = distances.index(min(distances))\n",
    "                cluster_list.append(cent)\n",
    "            return np.array(centroids), cluster_list\n",
    "        centroids = new_centroids"
   ]
  },
  {
   "cell_type": "code",
   "execution_count": 18,
   "metadata": {},
   "outputs": [
    {
     "name": "stdout",
     "output_type": "stream",
     "text": [
      "Converging at iteration no.:  3\n"
     ]
    }
   ],
   "source": [
    "max_iterations = 300\n",
    "final_centroids, cluster_list = kmeans(reduced_data, max_iterations , initial_centroids)"
   ]
  },
  {
   "cell_type": "code",
   "execution_count": 19,
   "metadata": {},
   "outputs": [],
   "source": [
    "#Function to generate incidence matrices\n",
    "def getIncidentMatrix(clusters):\n",
    "    incident_mat=[]\n",
    "    for i in range(len(clusters)):\n",
    "        row_values = []\n",
    "        val=0\n",
    "        for j in range(len(clusters)):\n",
    "            if(clusters[i]==clusters[j]):\n",
    "                val=1\n",
    "            row_values.append(val)\n",
    "            val=0\n",
    "        incident_mat.append(row_values)\n",
    "    return incident_mat"
   ]
  },
  {
   "cell_type": "code",
   "execution_count": 20,
   "metadata": {},
   "outputs": [],
   "source": [
    "ground_truth_incident = getIncidentMatrix(ground_truth_clusters)\n",
    "    \n",
    "cluster_list_incident = getIncidentMatrix(cluster_list)"
   ]
  },
  {
   "cell_type": "code",
   "execution_count": 21,
   "metadata": {},
   "outputs": [],
   "source": [
    "#Function to calculate Rand and Jaccard values\n",
    "def randAndJaccard(incident_ground_truth, incident_cluster_list):\n",
    "    m00=0\n",
    "    m01=0\n",
    "    m10=0\n",
    "    m11=0\n",
    "    for i in range(len(incident_cluster_list)):\n",
    "        for j in range(len(incident_cluster_list)):\n",
    "            if(incident_cluster_list[i][j]==incident_ground_truth[i][j]):\n",
    "                if(incident_cluster_list[i][j]==1):\n",
    "                    m11=m11+1\n",
    "                else:\n",
    "                    m00=m00+1\n",
    "            else:\n",
    "                if(incident_cluster_list[i][j]==1):\n",
    "                    m10=m10+1\n",
    "                else:\n",
    "                    m01=m01+1            \n",
    "\n",
    "    rand = (m11+m00)/(m00+m11+m01+m10)\n",
    "    jaccard = m11/(m11+m10+m01)\n",
    "    return rand, jaccard"
   ]
  },
  {
   "cell_type": "code",
   "execution_count": 22,
   "metadata": {},
   "outputs": [
    {
     "name": "stdout",
     "output_type": "stream",
     "text": [
      "Jaccard Coefficient:\t 0.37898089171974525\n",
      "Rand Index:\t\t 0.5666666666666667\n"
     ]
    }
   ],
   "source": [
    "randID, jaccardCoeff = randAndJaccard(ground_truth_incident, cluster_list_incident)\n",
    "print(\"Jaccard Coefficient:\\t\", jaccardCoeff)\n",
    "print(\"Rand Index:\\t\\t\", randID)"
   ]
  },
  {
   "cell_type": "code",
   "execution_count": 23,
   "metadata": {},
   "outputs": [],
   "source": [
    "#Function to generate data for PCA visualization\n",
    "def generatePCAData(centroids, vectors):\n",
    "    num_clusters = len(centroids)\n",
    "    universal_list = []\n",
    "#     for i in centroids:\n",
    "#         universal_list.append(i.tolist())\n",
    "    for i in vectors:\n",
    "        universal_list.append(i.tolist())\n",
    "    pca_data1 = PCA(n_components=2).fit_transform(universal_list)\n",
    "    \n",
    "    universal_list = []\n",
    "    for i in centroids:\n",
    "        universal_list.append(i.tolist())\n",
    "    centroid_data = PCA(n_components=2).fit_transform(universal_list)\n",
    "    \n",
    "#     pca_data = pca_data1[num_clusters:,:]\n",
    "#     centroid_data = pca_data1[0:num_clusters,:]\n",
    "    \n",
    "    return pca_data1, centroid_data"
   ]
  },
  {
   "cell_type": "code",
   "execution_count": 24,
   "metadata": {},
   "outputs": [],
   "source": [
    "#Function to plot the data\n",
    "def plotData(file_name, data,clusters,centroids):\n",
    "    allcolors=[]\n",
    "    for i in pltcolors.cnames.items():\n",
    "        allcolors.append(i[0])\n",
    "    plt.figure(figsize=(12,9))\n",
    "    legend = list()\n",
    "    classes = list(set(clusters))\n",
    "    allcolors1 = ['red','deepskyblue','green','purple', 'brown', 'plum', 'darkcyan','blue','magenta','lightslategray','black','yellow','mediumpurple','cyan',]\n",
    "    if(len(classes)>len(allcolors)):\n",
    "        colors = [random.choice(allcolors) for i in range(len(classes))]\n",
    "    else:\n",
    "        colors = allcolors1\n",
    "    for i in range(len(classes)):\n",
    "        cluster_data = data[np.where(np.array(clusters) == classes[i])]\n",
    "        legend.append(plt.scatter(cluster_data[:,0],cluster_data[:,1], c=colors[i], s=50, alpha=0.9))\n",
    "        #plt.scatter(centroids[i][0],centroids[i][1], s=150, marker=\"x\", c=colors[i], alpha = 0.9)\n",
    "    plt.legend(legend,classes)\n",
    "    plt.xlabel(\"Principle Component 1\")\n",
    "    plt.ylabel(\"Principle Component 2\")\n",
    "    plt.title(\"PCA visualization for Spectral Clustering and \"+file_name+\".txt file\")\n",
    "    plt.savefig('Spectral_'+file_name+'.png')\n",
    "    plt.show()"
   ]
  },
  {
   "cell_type": "code",
   "execution_count": 25,
   "metadata": {},
   "outputs": [],
   "source": [
    "#centroid_data = generatePCAData(final_centroids, k_kmeans)\n",
    "pca_data1, centroid_data1 = generatePCAData(final_centroids, input_matrix)"
   ]
  },
  {
   "cell_type": "code",
   "execution_count": 26,
   "metadata": {},
   "outputs": [
    {
     "data": {
      "image/png": "[encoded data removed]",
      "text/plain": [
       "<Figure size 864x648 with 1 Axes>"
      ]
     },
     "metadata": {
      "needs_background": "light"
     },
     "output_type": "display_data"
    }
   ],
   "source": [
    "plotData(file_name, pca_data1, cluster_list, centroid_data1)"
   ]
  },
  {
   "cell_type": "code",
   "execution_count": 27,
   "metadata": {},
   "outputs": [
    {
     "name": "stderr",
     "output_type": "stream",
     "text": [
      "/home/hrishi/anaconda3/lib/python3.7/site-packages/sklearn/cluster/k_means_.py:972: RuntimeWarning: Explicit initial center position passed: performing only one init in k-means instead of n_init=10\n",
      "  return_n_iter=True)\n"
     ]
    }
   ],
   "source": [
    "from sklearn.cluster import KMeans\n",
    "k1 = KMeans(n_clusters = 3, init = np.array(initial_centroids), max_iter = 100).fit(reduced_data)"
   ]
  },
  {
   "cell_type": "code",
   "execution_count": 28,
   "metadata": {},
   "outputs": [
    {
     "data": {
      "text/plain": [
       "True"
      ]
     },
     "execution_count": 28,
     "metadata": {},
     "output_type": "execute_result"
    }
   ],
   "source": [
    "np.array_equal(np.array(cluster_list),k1.labels_)"
   ]
  },
  {
   "cell_type": "code",
   "execution_count": null,
   "metadata": {},
   "outputs": [],
   "source": []
  }
 ],
 "metadata": {
  "kernelspec": {
   "display_name": "Python 3",
   "language": "python",
   "name": "python3"
  },
  "language_info": {
   "codemirror_mode": {
    "name": "ipython",
    "version": 3
   },
   "file_extension": ".py",
   "mimetype": "text/x-python",
   "name": "python",
   "nbconvert_exporter": "python",
   "pygments_lexer": "ipython3",
   "version": "3.7.4"
  }
 },
 "nbformat": 4,
 "nbformat_minor": 2
}
